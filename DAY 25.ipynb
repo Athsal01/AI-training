{
 "cells": [
  {
   "cell_type": "code",
   "execution_count": null,
   "id": "5370d13f",
   "metadata": {},
   "outputs": [],
   "source": [
    "'''   \n",
    "first solve the smalleat prob (e.g, floor 0 , floor 1)\n",
    "store answer in list/table\n",
    "Build bigger answers from small answers\n",
    "\n",
    "this is tabulation(Bottom up)\n",
    "fib(5) - fib(4) + fib (3)\n",
    "'''"
   ]
  },
  {
   "cell_type": "code",
   "execution_count": null,
   "id": "2b8b5a86",
   "metadata": {},
   "outputs": [],
   "source": [
    "'''    \n",
    "In 1D DP , the state depended on a single inbox (like dp[i] for climbing stairs)\n",
    "In 2D DP , the state depends on two indices - typically i (row) and j (column)\n",
    "'''"
   ]
  },
  {
   "cell_type": "code",
   "execution_count": null,
   "id": "386e8a90",
   "metadata": {},
   "outputs": [],
   "source": [
    "'''   \n",
    "de[i][j] -> some computed value for cell (i, j) in a table/ grid\n",
    "Example:\n",
    "\n",
    "'''"
   ]
  }
 ],
 "metadata": {
  "kernelspec": {
   "display_name": "Python 3",
   "language": "python",
   "name": "python3"
  },
  "language_info": {
   "name": "python",
   "version": "3.13.5"
  }
 },
 "nbformat": 4,
 "nbformat_minor": 5
}
