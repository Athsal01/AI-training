{
 "cells": [
  {
   "cell_type": "code",
   "execution_count": null,
   "id": "5ed7b73c",
   "metadata": {},
   "outputs": [],
   "source": [
    "#Probability\n",
    "#p(a) = n(a)/n(s)"
   ]
  },
  {
   "cell_type": "code",
   "execution_count": 1,
   "id": "56af1f43",
   "metadata": {},
   "outputs": [
    {
     "name": "stdout",
     "output_type": "stream",
     "text": [
      "0.5\n"
     ]
    }
   ],
   "source": [
    "Basket = ['apple']*3 + ['orange']*2 + ['banana']*1\n",
    "tot_val = len(Basket)\n",
    "t_apple = Basket.count('apple')/tot_val\n",
    "print(t_apple)"
   ]
  },
  {
   "cell_type": "code",
   "execution_count": 4,
   "id": "62f90174",
   "metadata": {},
   "outputs": [
    {
     "name": "stdout",
     "output_type": "stream",
     "text": [
      "0.0\n",
      "0.0\n"
     ]
    }
   ],
   "source": [
    "coin = [['H', 'H'], ['T', 'T'], ['H', 'T'], ['T', 'H']]\n",
    "tot_val = len(coin)\n",
    "t_Head = coin.count('H')/tot_val\n",
    "t_Tail = coin.count('T')/tot_val\n",
    "print(t_Head)\n",
    "print(t_Tail)"
   ]
  },
  {
   "cell_type": "code",
   "execution_count": 7,
   "id": "9177e282",
   "metadata": {},
   "outputs": [
    {
     "name": "stdout",
     "output_type": "stream",
     "text": [
      "0.0\n"
     ]
    }
   ],
   "source": [
    "coins = [\"HT,HH,TH,TT\"]\n",
    "total_values = len(coins)\n",
    "t_H = coins.count(\"H\") / total_values\n",
    "print(t_H)"
   ]
  },
  {
   "cell_type": "code",
   "execution_count": null,
   "id": "a659baa4",
   "metadata": {},
   "outputs": [
    {
     "name": "stdout",
     "output_type": "stream",
     "text": [
      "0.25\n"
     ]
    }
   ],
   "source": [
    "outcomes = ['hh', 'tt', 'ht', 'th']\n",
    "count = 0\n",
    "for i in outcomes:\n",
    "    if 'hh' in i:\n",
    "        count += 1\n",
    "else:\n",
    "    print(count/len(outcomes))"
   ]
  },
  {
   "cell_type": "code",
   "execution_count": 13,
   "id": "a193aefe",
   "metadata": {},
   "outputs": [
    {
     "name": "stdout",
     "output_type": "stream",
     "text": [
      "0.5\n",
      "0.6666666666666666\n",
      "0.6666666666666667\n"
     ]
    }
   ],
   "source": [
    "Basket = ['apple']*3 + ['orange']*2 + ['banana']*1\n",
    "tot_val = len(Basket)\n",
    "t_apple = Basket.count('apple')/tot_val\n",
    "print(t_apple)\n",
    "p_orange_or_banana = (Basket.count('apple')+Basket.count('banana'))/tot_val\n",
    "print(p_orange_or_banana)\n",
    "#1-p(a)\n",
    "not_p_orange = 1-Basket.count('orange')/tot_val\n",
    "print(not_p_orange)"
   ]
  },
  {
   "cell_type": "code",
   "execution_count": null,
   "id": "068d48d6",
   "metadata": {},
   "outputs": [
    {
     "name": "stdout",
     "output_type": "stream",
     "text": [
      "0.8333333333333334\n",
      "0.25\n"
     ]
    }
   ],
   "source": [
    "#conditional prob\n",
    "total = 100\n",
    "rain = 60\n",
    "dry = 40\n",
    "umb_rain = 50\n",
    "umb_dry = 10\n",
    "p_umb_given_rain = umb_rain/rain\n",
    "p_umb_given_dry = umb_dry/dry\n",
    "print(p_umb_given_rain)\n",
    "print(p_umb_given_dry)"
   ]
  },
  {
   "cell_type": "code",
   "execution_count": null,
   "id": "d71c951d",
   "metadata": {},
   "outputs": [
    {
     "name": "stdout",
     "output_type": "stream",
     "text": [
      "0.75\n"
     ]
    }
   ],
   "source": [
    "total = 100\n",
    "mon_attendace = 80\n",
    "both = 90\n",
    "#p(A/B)=P(A intersection B)/P(B)\n",
    "p_tuesday_given_monday = both/mon_attendace\n",
    "print(p_tuesday_given_monday)\n"
   ]
  },
  {
   "cell_type": "code",
   "execution_count": null,
   "id": "6d1645fb",
   "metadata": {},
   "outputs": [],
   "source": []
  },
  {
   "cell_type": "code",
   "execution_count": null,
   "id": "f0cce34d",
   "metadata": {},
   "outputs": [],
   "source": []
  }
 ],
 "metadata": {
  "kernelspec": {
   "display_name": "Python 3",
   "language": "python",
   "name": "python3"
  },
  "language_info": {
   "codemirror_mode": {
    "name": "ipython",
    "version": 3
   },
   "file_extension": ".py",
   "mimetype": "text/x-python",
   "name": "python",
   "nbconvert_exporter": "python",
   "pygments_lexer": "ipython3",
   "version": "3.13.5"
  }
 },
 "nbformat": 4,
 "nbformat_minor": 5
}
