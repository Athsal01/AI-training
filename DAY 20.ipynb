{
 "cells": [
  {
   "cell_type": "code",
   "execution_count": null,
   "id": "854ddad7",
   "metadata": {},
   "outputs": [
    {
     "name": "stdout",
     "output_type": "stream",
     "text": [
      "Item added to Lost & Found.\n"
     ]
    }
   ],
   "source": [
    "lost_items_hash = set()\n",
    "item = input(\"What item did you lose? \")\n",
    "item_hash = hash(item)\n",
    "if item_hash in lost_items_hash:\n",
    "    print(\"Yes! Found it!\")\n",
    "else:\n",
    "    lost_items_hash.add(item_hash)\n",
    "    print(\"Item added to Lost & Found.\")\n"
   ]
  },
  {
   "cell_type": "code",
   "execution_count": 2,
   "id": "3518706e",
   "metadata": {},
   "outputs": [
    {
     "name": "stdout",
     "output_type": "stream",
     "text": [
      "Access granted.\n"
     ]
    }
   ],
   "source": [
    "real_password = \"sunshine123\"\n",
    "stored_hash = hash(real_password)\n",
    "user_input = input(\"Enter your diary password: \")\n",
    "if hash(user_input) == stored_hash:\n",
    "    print(\"Access granted.\")\n",
    "else:\n",
    "    print(\"Wrong password.\")\n"
   ]
  },
  {
   "cell_type": "code",
   "execution_count": 4,
   "id": "d27bfd80",
   "metadata": {},
   "outputs": [
    {
     "name": "stdout",
     "output_type": "stream",
     "text": [
      "Ravi is Absent.\n"
     ]
    }
   ],
   "source": [
    "attendance = {\n",
    "    hash(\"Anu\"): \"Present\",\n",
    "    hash(\"Ravi\"): \"Absent\",\n",
    "    hash(\"Meena\"): \"Present\"\n",
    "}\n",
    "name = input(\"Enter student name: \")\n",
    "name_hash = hash(name)\n",
    "if name_hash in attendance:\n",
    "    print(f\"{name} is {attendance[name_hash]}.\")\n",
    "else:\n",
    "    print(\"Name not found.\")\n"
   ]
  },
  {
   "cell_type": "code",
   "execution_count": 6,
   "id": "614accea",
   "metadata": {},
   "outputs": [
    {
     "name": "stdout",
     "output_type": "stream",
     "text": [
      "Assign to Driver 2\n"
     ]
    }
   ],
   "source": [
    "phone = input(\"Enter customer phone number: \")\n",
    "driver_id = hash(phone) % 3  \n",
    "print(f\"Assign to Driver {driver_id}\")\n"
   ]
  },
  {
   "cell_type": "code",
   "execution_count": 7,
   "id": "028ed255",
   "metadata": {},
   "outputs": [
    {
     "name": "stdout",
     "output_type": "stream",
     "text": [
      "Essays are different.\n"
     ]
    }
   ],
   "source": [
    "essay1 = input(\"Paste Essay 1: \")\n",
    "essay2 = input(\"Paste Essay 2: \")\n",
    "if hash(essay1) == hash(essay2):\n",
    "    print(\"Possible Plagiarism Detected!\")\n",
    "else:\n",
    "    print(\"Essays are different.\")\n"
   ]
  },
  {
   "cell_type": "code",
   "execution_count": null,
   "id": "2b406d0d",
   "metadata": {},
   "outputs": [],
   "source": [
    "#stack :\n",
    "#last in first out\n",
    "#Queue:\n",
    "#first in first out\n",
    "#Linear data struct - the time complexity o(1) we wil consider that as linear data structure\n",
    "#Stack methods:\n",
    "#1.push.....2.pop.....3.peek....4.Isempty.....5.size\n",
    "#Queue methods:\n",
    "#1.Enqueue.....2.dequeue.....3.\n"
   ]
  },
  {
   "cell_type": "code",
   "execution_count": 4,
   "id": "a316f551",
   "metadata": {},
   "outputs": [
    {
     "ename": "TypeError",
     "evalue": "stack.push() missing 1 required positional argument: 'elements'",
     "output_type": "error",
     "traceback": [
      "\u001b[31m---------------------------------------------------------------------------\u001b[39m",
      "\u001b[31mTypeError\u001b[39m                                 Traceback (most recent call last)",
      "\u001b[36mCell\u001b[39m\u001b[36m \u001b[39m\u001b[32mIn[4]\u001b[39m\u001b[32m, line 19\u001b[39m\n\u001b[32m     17\u001b[39m         \u001b[38;5;28mprint\u001b[39m(\u001b[38;5;28mself\u001b[39m.stack)\n\u001b[32m     18\u001b[39m mystack = stack\n\u001b[32m---> \u001b[39m\u001b[32m19\u001b[39m \u001b[43mmystack\u001b[49m\u001b[43m.\u001b[49m\u001b[43mpush\u001b[49m\u001b[43m(\u001b[49m\u001b[32;43m2\u001b[39;49m\u001b[43m)\u001b[49m\n\u001b[32m     20\u001b[39m mystack.push(\u001b[32m9\u001b[39m)\n\u001b[32m     21\u001b[39m mystack.push(\u001b[32m8\u001b[39m)\n",
      "\u001b[31mTypeError\u001b[39m: stack.push() missing 1 required positional argument: 'elements'"
     ]
    }
   ],
   "source": [
    "class stack():\n",
    "    def __init__(self):\n",
    "        self.stack = []\n",
    "    def push(self,elements):\n",
    "        self.stack.append(elements)\n",
    "    def pop(self,element):\n",
    "        if self.is_empty():\n",
    "            print(\"the stack is empty\")\n",
    "        return self.stack.pop()\n",
    "    def peek(self):\n",
    "        return self.stack([-1])\n",
    "    def is_empty(self):\n",
    "        return len(self.stack)==0\n",
    "    def size(self):\n",
    "        return len(self.stack)\n",
    "    def disply(self):\n",
    "        print(self.stack)\n",
    "mystack = stack\n",
    "mystack.push(2)\n",
    "mystack.push(9)\n",
    "mystack.push(8)\n",
    "mystack.disply()\n",
    "mystack.pop()\n",
    "mystack.disply()\n",
    "mystack.size()\n",
    "mystack.is_empty()"
   ]
  },
  {
   "cell_type": "code",
   "execution_count": null,
   "id": "a7858af8",
   "metadata": {},
   "outputs": [],
   "source": [
    "#prob - 20: in leet code\n",
    "pairs = {'(':')','[':']','{':'}'}\n",
    "list = []\n",
    "for char in pairs:\n",
    "    if char.values:\n",
    "        list.append(char)\n",
    "    elif char.pairs:\n",
    "        if not list and char != pairs[char]:\n"
   ]
  }
 ],
 "metadata": {
  "kernelspec": {
   "display_name": "Python 3",
   "language": "python",
   "name": "python3"
  },
  "language_info": {
   "codemirror_mode": {
    "name": "ipython",
    "version": 3
   },
   "file_extension": ".py",
   "mimetype": "text/x-python",
   "name": "python",
   "nbconvert_exporter": "python",
   "pygments_lexer": "ipython3",
   "version": "3.13.5"
  }
 },
 "nbformat": 4,
 "nbformat_minor": 5
}
